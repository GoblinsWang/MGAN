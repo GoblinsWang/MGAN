{
 "cells": [
  {
   "cell_type": "code",
   "execution_count": 1,
   "id": "4b139455-591e-4487-8372-5d8a1f88ee2e",
   "metadata": {
    "tags": []
   },
   "outputs": [
    {
     "name": "stdout",
     "output_type": "stream",
     "text": [
      "/mydata/crossmodal/MGAN\n"
     ]
    }
   ],
   "source": [
    "!pwd"
   ]
  },
  {
   "cell_type": "code",
   "execution_count": 2,
   "id": "1999bd18-8e63-4f62-985d-3784fdef8545",
   "metadata": {
    "tags": []
   },
   "outputs": [
    {
     "name": "stdout",
     "output_type": "stream",
     "text": [
      "import _frozen_importlib # frozen\n",
      "import _imp # builtin\n",
      "import '_thread' # <class '_frozen_importlib.BuiltinImporter'>\n",
      "import '_warnings' # <class '_frozen_importlib.BuiltinImporter'>\n",
      "import '_weakref' # <class '_frozen_importlib.BuiltinImporter'>\n",
      "import '_io' # <class '_frozen_importlib.BuiltinImporter'>\n",
      "import 'marshal' # <class '_frozen_importlib.BuiltinImporter'>\n",
      "import 'posix' # <class '_frozen_importlib.BuiltinImporter'>\n",
      "import '_frozen_importlib_external' # <class '_frozen_importlib.FrozenImporter'>\n",
      "# installing zipimport hook\n",
      "import 'time' # <class '_frozen_importlib.BuiltinImporter'>\n",
      "import 'zipimport' # <class '_frozen_importlib.FrozenImporter'>\n",
      "# installed zipimport hook\n",
      "# /opt/conda/lib/python3.10/encodings/__pycache__/__init__.cpython-310.pyc matches /opt/conda/lib/python3.10/encodings/__init__.py\n",
      "# code object from '/opt/conda/lib/python3.10/encodings/__pycache__/__init__.cpython-310.pyc'\n",
      "# /opt/conda/lib/python3.10/__pycache__/codecs.cpython-310.pyc matches /opt/conda/lib/python3.10/codecs.py\n",
      "# code object from '/opt/conda/lib/python3.10/__pycache__/codecs.cpython-310.pyc'\n",
      "import '_codecs' # <class '_frozen_importlib.BuiltinImporter'>\n",
      "import 'codecs' # <_frozen_importlib_external.SourceFileLoader object at 0x7f1549123280>\n",
      "# /opt/conda/lib/python3.10/encodings/__pycache__/aliases.cpython-310.pyc matches /opt/conda/lib/python3.10/encodings/aliases.py\n",
      "# code object from '/opt/conda/lib/python3.10/encodings/__pycache__/aliases.cpython-310.pyc'\n",
      "import 'encodings.aliases' # <_frozen_importlib_external.SourceFileLoader object at 0x7f1548f74850>\n",
      "import 'encodings' # <_frozen_importlib_external.SourceFileLoader object at 0x7f1549123040>\n",
      "# /opt/conda/lib/python3.10/encodings/__pycache__/utf_8.cpython-310.pyc matches /opt/conda/lib/python3.10/encodings/utf_8.py\n",
      "# code object from '/opt/conda/lib/python3.10/encodings/__pycache__/utf_8.cpython-310.pyc'\n",
      "import 'encodings.utf_8' # <_frozen_importlib_external.SourceFileLoader object at 0x7f1549122fe0>\n",
      "import '_signal' # <class '_frozen_importlib.BuiltinImporter'>\n",
      "# /opt/conda/lib/python3.10/__pycache__/io.cpython-310.pyc matches /opt/conda/lib/python3.10/io.py\n",
      "# code object from '/opt/conda/lib/python3.10/__pycache__/io.cpython-310.pyc'\n",
      "# /opt/conda/lib/python3.10/__pycache__/abc.cpython-310.pyc matches /opt/conda/lib/python3.10/abc.py\n",
      "# code object from '/opt/conda/lib/python3.10/__pycache__/abc.cpython-310.pyc'\n",
      "import '_abc' # <class '_frozen_importlib.BuiltinImporter'>\n",
      "import 'abc' # <_frozen_importlib_external.SourceFileLoader object at 0x7f1548f74bb0>\n",
      "import 'io' # <_frozen_importlib_external.SourceFileLoader object at 0x7f1548f749a0>\n",
      "# /opt/conda/lib/python3.10/__pycache__/site.cpython-310.pyc matches /opt/conda/lib/python3.10/site.py\n",
      "# code object from '/opt/conda/lib/python3.10/__pycache__/site.cpython-310.pyc'\n",
      "# /opt/conda/lib/python3.10/__pycache__/os.cpython-310.pyc matches /opt/conda/lib/python3.10/os.py\n",
      "# code object from '/opt/conda/lib/python3.10/__pycache__/os.cpython-310.pyc'\n",
      "# /opt/conda/lib/python3.10/__pycache__/stat.cpython-310.pyc matches /opt/conda/lib/python3.10/stat.py\n",
      "# code object from '/opt/conda/lib/python3.10/__pycache__/stat.cpython-310.pyc'\n",
      "import '_stat' # <class '_frozen_importlib.BuiltinImporter'>\n",
      "import 'stat' # <_frozen_importlib_external.SourceFileLoader object at 0x7f1548f76dd0>\n",
      "# /opt/conda/lib/python3.10/__pycache__/_collections_abc.cpython-310.pyc matches /opt/conda/lib/python3.10/_collections_abc.py\n",
      "# code object from '/opt/conda/lib/python3.10/__pycache__/_collections_abc.cpython-310.pyc'\n",
      "import '_collections_abc' # <_frozen_importlib_external.SourceFileLoader object at 0x7f1548f77130>\n",
      "# /opt/conda/lib/python3.10/__pycache__/posixpath.cpython-310.pyc matches /opt/conda/lib/python3.10/posixpath.py\n",
      "# code object from '/opt/conda/lib/python3.10/__pycache__/posixpath.cpython-310.pyc'\n",
      "# /opt/conda/lib/python3.10/__pycache__/genericpath.cpython-310.pyc matches /opt/conda/lib/python3.10/genericpath.py\n",
      "# code object from '/opt/conda/lib/python3.10/__pycache__/genericpath.cpython-310.pyc'\n",
      "import 'genericpath' # <_frozen_importlib_external.SourceFileLoader object at 0x7f1548fb9960>\n",
      "import 'posixpath' # <_frozen_importlib_external.SourceFileLoader object at 0x7f1548f771c0>\n",
      "import 'os' # <_frozen_importlib_external.SourceFileLoader object at 0x7f1548f759f0>\n",
      "# /opt/conda/lib/python3.10/__pycache__/_sitebuiltins.cpython-310.pyc matches /opt/conda/lib/python3.10/_sitebuiltins.py\n",
      "# code object from '/opt/conda/lib/python3.10/__pycache__/_sitebuiltins.cpython-310.pyc'\n",
      "import '_sitebuiltins' # <_frozen_importlib_external.SourceFileLoader object at 0x7f1548f76ad0>\n",
      "Processing user site-packages\n",
      "Adding directory: '/home/cemlab/.local/lib/python3.10/site-packages'\n",
      "Processing global site-packages\n",
      "Adding directory: '/opt/conda/lib/python3.10/site-packages'\n",
      "Processing .pth file: '/opt/conda/lib/python3.10/site-packages/distutils-precedence.pth'\n",
      "# /opt/conda/lib/python3.10/site-packages/_distutils_hack/__pycache__/__init__.cpython-310.pyc matches /opt/conda/lib/python3.10/site-packages/_distutils_hack/__init__.py\n",
      "# code object from '/opt/conda/lib/python3.10/site-packages/_distutils_hack/__pycache__/__init__.cpython-310.pyc'\n",
      "import '_distutils_hack' # <_frozen_importlib_external.SourceFileLoader object at 0x7f1548fba9b0>\n",
      "Processing .pth file: '/opt/conda/lib/python3.10/site-packages/matplotlib-3.7.2-py3.10-nspkg.pth'\n",
      "# /opt/conda/lib/python3.10/__pycache__/types.cpython-310.pyc matches /opt/conda/lib/python3.10/types.py\n",
      "# code object from '/opt/conda/lib/python3.10/__pycache__/types.cpython-310.pyc'\n",
      "import 'types' # <_frozen_importlib_external.SourceFileLoader object at 0x7f1548fbbdc0>\n",
      "# /opt/conda/lib/python3.10/importlib/__pycache__/__init__.cpython-310.pyc matches /opt/conda/lib/python3.10/importlib/__init__.py\n",
      "# code object from '/opt/conda/lib/python3.10/importlib/__pycache__/__init__.cpython-310.pyc'\n",
      "# /opt/conda/lib/python3.10/__pycache__/warnings.cpython-310.pyc matches /opt/conda/lib/python3.10/warnings.py\n",
      "# code object from '/opt/conda/lib/python3.10/__pycache__/warnings.cpython-310.pyc'\n",
      "import 'warnings' # <_frozen_importlib_external.SourceFileLoader object at 0x7f1548fbafe0>\n",
      "import 'importlib' # <_frozen_importlib_external.SourceFileLoader object at 0x7f1548fbb400>\n",
      "# /opt/conda/lib/python3.10/importlib/__pycache__/util.cpython-310.pyc matches /opt/conda/lib/python3.10/importlib/util.py\n",
      "# code object from '/opt/conda/lib/python3.10/importlib/__pycache__/util.cpython-310.pyc'\n",
      "# /opt/conda/lib/python3.10/importlib/__pycache__/_abc.cpython-310.pyc matches /opt/conda/lib/python3.10/importlib/_abc.py\n",
      "# code object from '/opt/conda/lib/python3.10/importlib/__pycache__/_abc.cpython-310.pyc'\n",
      "import 'importlib._abc' # <_frozen_importlib_external.SourceFileLoader object at 0x7f1548feddb0>\n",
      "# /opt/conda/lib/python3.10/__pycache__/contextlib.cpython-310.pyc matches /opt/conda/lib/python3.10/contextlib.py\n",
      "# code object from '/opt/conda/lib/python3.10/__pycache__/contextlib.cpython-310.pyc'\n",
      "# /opt/conda/lib/python3.10/collections/__pycache__/__init__.cpython-310.pyc matches /opt/conda/lib/python3.10/collections/__init__.py\n",
      "# code object from '/opt/conda/lib/python3.10/collections/__pycache__/__init__.cpython-310.pyc'\n",
      "import 'itertools' # <class '_frozen_importlib.BuiltinImporter'>\n",
      "# /opt/conda/lib/python3.10/__pycache__/keyword.cpython-310.pyc matches /opt/conda/lib/python3.10/keyword.py\n",
      "# code object from '/opt/conda/lib/python3.10/__pycache__/keyword.cpython-310.pyc'\n",
      "import 'keyword' # <_frozen_importlib_external.SourceFileLoader object at 0x7f1549030460>\n",
      "# /opt/conda/lib/python3.10/__pycache__/operator.cpython-310.pyc matches /opt/conda/lib/python3.10/operator.py\n",
      "# code object from '/opt/conda/lib/python3.10/__pycache__/operator.cpython-310.pyc'\n",
      "import '_operator' # <class '_frozen_importlib.BuiltinImporter'>\n",
      "import 'operator' # <_frozen_importlib_external.SourceFileLoader object at 0x7f1549030520>\n",
      "# /opt/conda/lib/python3.10/__pycache__/reprlib.cpython-310.pyc matches /opt/conda/lib/python3.10/reprlib.py\n",
      "# code object from '/opt/conda/lib/python3.10/__pycache__/reprlib.cpython-310.pyc'\n",
      "import 'reprlib' # <_frozen_importlib_external.SourceFileLoader object at 0x7f1549030730>\n",
      "import '_collections' # <class '_frozen_importlib.BuiltinImporter'>\n",
      "import 'collections' # <_frozen_importlib_external.SourceFileLoader object at 0x7f1548fec4f0>\n",
      "# /opt/conda/lib/python3.10/__pycache__/functools.cpython-310.pyc matches /opt/conda/lib/python3.10/functools.py\n",
      "# code object from '/opt/conda/lib/python3.10/__pycache__/functools.cpython-310.pyc'\n",
      "import '_functools' # <class '_frozen_importlib.BuiltinImporter'>\n",
      "import 'functools' # <_frozen_importlib_external.SourceFileLoader object at 0x7f1549030f40>\n",
      "import 'contextlib' # <_frozen_importlib_external.SourceFileLoader object at 0x7f1548fedba0>\n",
      "import 'importlib.util' # <_frozen_importlib_external.SourceFileLoader object at 0x7f1548fbace0>\n",
      "# /opt/conda/lib/python3.10/importlib/__pycache__/machinery.cpython-310.pyc matches /opt/conda/lib/python3.10/importlib/machinery.py\n",
      "# code object from '/opt/conda/lib/python3.10/importlib/__pycache__/machinery.cpython-310.pyc'\n",
      "import 'importlib.machinery' # <_frozen_importlib_external.SourceFileLoader object at 0x7f1548fed360>\n",
      "# possible namespace for /opt/conda/lib/python3.10/site-packages/mpl_toolkits\n",
      "Processing .pth file: '/opt/conda/lib/python3.10/site-packages/mpmath.pth'\n",
      "Processing .pth file: '/opt/conda/lib/python3.10/site-packages/ruamel.yaml-0.17.21-py3.10-nspkg.pth'\n",
      "# possible namespace for /opt/conda/lib/python3.10/site-packages/ruamel\n",
      "import 'site' # <_frozen_importlib_external.SourceFileLoader object at 0x7f1548f753c0>\n",
      "Python 3.10.11 (main, Apr 20 2023, 19:02:41) [GCC 11.2.0] on linux\n",
      "Type \"help\", \"copyright\", \"credits\" or \"license\" for more information.\n",
      "# extension module 'readline' loaded from '/opt/conda/lib/python3.10/lib-dynload/readline.cpython-310-x86_64-linux-gnu.so'\n",
      "# extension module 'readline' executed from '/opt/conda/lib/python3.10/lib-dynload/readline.cpython-310-x86_64-linux-gnu.so'\n",
      "import 'readline' # <_frozen_importlib_external.ExtensionFileLoader object at 0x7f15490338b0>\n",
      "import 'atexit' # <class '_frozen_importlib.BuiltinImporter'>\n",
      "# /opt/conda/lib/python3.10/__pycache__/rlcompleter.cpython-310.pyc matches /opt/conda/lib/python3.10/rlcompleter.py\n",
      "# code object from '/opt/conda/lib/python3.10/__pycache__/rlcompleter.cpython-310.pyc'\n",
      "# /opt/conda/lib/python3.10/__pycache__/inspect.cpython-310.pyc matches /opt/conda/lib/python3.10/inspect.py\n",
      "# code object from '/opt/conda/lib/python3.10/__pycache__/inspect.cpython-310.pyc'\n",
      "# /opt/conda/lib/python3.10/__pycache__/ast.cpython-310.pyc matches /opt/conda/lib/python3.10/ast.py\n",
      "# code object from '/opt/conda/lib/python3.10/__pycache__/ast.cpython-310.pyc'\n",
      "import '_ast' # <class '_frozen_importlib.BuiltinImporter'>\n",
      "# /opt/conda/lib/python3.10/__pycache__/enum.cpython-310.pyc matches /opt/conda/lib/python3.10/enum.py\n",
      "# code object from '/opt/conda/lib/python3.10/__pycache__/enum.cpython-310.pyc'\n",
      "import 'enum' # <_frozen_importlib_external.SourceFileLoader object at 0x7f1548ea0310>\n",
      "import 'ast' # <_frozen_importlib_external.SourceFileLoader object at 0x7f1548e5c220>\n",
      "# /opt/conda/lib/python3.10/__pycache__/dis.cpython-310.pyc matches /opt/conda/lib/python3.10/dis.py\n",
      "# code object from '/opt/conda/lib/python3.10/__pycache__/dis.cpython-310.pyc'\n",
      "# /opt/conda/lib/python3.10/__pycache__/opcode.cpython-310.pyc matches /opt/conda/lib/python3.10/opcode.py\n",
      "# code object from '/opt/conda/lib/python3.10/__pycache__/opcode.cpython-310.pyc'\n",
      "# extension module '_opcode' loaded from '/opt/conda/lib/python3.10/lib-dynload/_opcode.cpython-310-x86_64-linux-gnu.so'\n",
      "# extension module '_opcode' executed from '/opt/conda/lib/python3.10/lib-dynload/_opcode.cpython-310-x86_64-linux-gnu.so'\n",
      "import '_opcode' # <_frozen_importlib_external.ExtensionFileLoader object at 0x7f1548ea28f0>\n",
      "import 'opcode' # <_frozen_importlib_external.SourceFileLoader object at 0x7f1548ea2680>\n",
      "import 'dis' # <_frozen_importlib_external.SourceFileLoader object at 0x7f1548e5c9d0>\n",
      "# /opt/conda/lib/python3.10/collections/__pycache__/abc.cpython-310.pyc matches /opt/conda/lib/python3.10/collections/abc.py\n",
      "# code object from '/opt/conda/lib/python3.10/collections/__pycache__/abc.cpython-310.pyc'\n",
      "import 'collections.abc' # <_frozen_importlib_external.SourceFileLoader object at 0x7f1548ea37f0>\n",
      "# /opt/conda/lib/python3.10/__pycache__/linecache.cpython-310.pyc matches /opt/conda/lib/python3.10/linecache.py\n",
      "# code object from '/opt/conda/lib/python3.10/__pycache__/linecache.cpython-310.pyc'\n",
      "# /opt/conda/lib/python3.10/__pycache__/tokenize.cpython-310.pyc matches /opt/conda/lib/python3.10/tokenize.py\n",
      "# code object from '/opt/conda/lib/python3.10/__pycache__/tokenize.cpython-310.pyc'\n",
      "# /opt/conda/lib/python3.10/__pycache__/re.cpython-310.pyc matches /opt/conda/lib/python3.10/re.py\n",
      "# code object from '/opt/conda/lib/python3.10/__pycache__/re.cpython-310.pyc'\n",
      "# /opt/conda/lib/python3.10/__pycache__/sre_compile.cpython-310.pyc matches /opt/conda/lib/python3.10/sre_compile.py\n",
      "# code object from '/opt/conda/lib/python3.10/__pycache__/sre_compile.cpython-310.pyc'\n",
      "import '_sre' # <class '_frozen_importlib.BuiltinImporter'>\n",
      "# /opt/conda/lib/python3.10/__pycache__/sre_parse.cpython-310.pyc matches /opt/conda/lib/python3.10/sre_parse.py\n",
      "# code object from '/opt/conda/lib/python3.10/__pycache__/sre_parse.cpython-310.pyc'\n",
      "# /opt/conda/lib/python3.10/__pycache__/sre_constants.cpython-310.pyc matches /opt/conda/lib/python3.10/sre_constants.py\n",
      "# code object from '/opt/conda/lib/python3.10/__pycache__/sre_constants.cpython-310.pyc'\n",
      "import 'sre_constants' # <_frozen_importlib_external.SourceFileLoader object at 0x7f1548ee5120>\n",
      "import 'sre_parse' # <_frozen_importlib_external.SourceFileLoader object at 0x7f1548ee4910>\n",
      "import 'sre_compile' # <_frozen_importlib_external.SourceFileLoader object at 0x7f1548ea3fd0>\n",
      "import '_locale' # <class '_frozen_importlib.BuiltinImporter'>\n",
      "# /opt/conda/lib/python3.10/__pycache__/copyreg.cpython-310.pyc matches /opt/conda/lib/python3.10/copyreg.py\n",
      "# code object from '/opt/conda/lib/python3.10/__pycache__/copyreg.cpython-310.pyc'\n",
      "import 'copyreg' # <_frozen_importlib_external.SourceFileLoader object at 0x7f1548ee6c20>\n",
      "import 're' # <_frozen_importlib_external.SourceFileLoader object at 0x7f1548ea2950>\n",
      "# /opt/conda/lib/python3.10/__pycache__/token.cpython-310.pyc matches /opt/conda/lib/python3.10/token.py\n",
      "# code object from '/opt/conda/lib/python3.10/__pycache__/token.cpython-310.pyc'\n",
      "import 'token' # <_frozen_importlib_external.SourceFileLoader object at 0x7f1548ee6e90>\n",
      "import 'tokenize' # <_frozen_importlib_external.SourceFileLoader object at 0x7f1548ea3460>\n",
      "import 'linecache' # <_frozen_importlib_external.SourceFileLoader object at 0x7f1548ea3640>\n",
      "import 'inspect' # <_frozen_importlib_external.SourceFileLoader object at 0x7f1549033e80>\n",
      "import 'rlcompleter' # <_frozen_importlib_external.SourceFileLoader object at 0x7f1549033ac0>\n",
      ">>> \n",
      "Traceback (most recent call last):\n",
      "  File \"<stdin>\", line 1, in <module>\n",
      "KeyboardInterrupt\n",
      ">>> "
     ]
    }
   ],
   "source": [
    "!python -v"
   ]
  },
  {
   "cell_type": "code",
   "execution_count": 4,
   "id": "a29a0a13-8cfa-41b6-abc6-ecd19a72795a",
   "metadata": {
    "tags": []
   },
   "outputs": [
    {
     "name": "stdout",
     "output_type": "stream",
     "text": [
      "LICENSE\t\tcheckpoint  engine.py  mytools.py      test_ave.py     utils.py\n",
      "README.md\tdata\t    exec       option\t       test_single.py  vocab\n",
      "Untitled.ipynb\tdata.py     logs       postprocessing  train.py        vocab.py\n",
      "__pycache__\tdetection   model      seq2vec\t       util\n"
     ]
    }
   ],
   "source": [
    "!ls"
   ]
  },
  {
   "cell_type": "code",
   "execution_count": 6,
   "id": "9d456dc5-bc08-4d6c-ad65-728c078db2fb",
   "metadata": {
    "tags": []
   },
   "outputs": [
    {
     "name": "stdout",
     "output_type": "stream",
     "text": [
      "# conda environments:\n",
      "#\n",
      "base                     /opt/conda\n",
      "pytorch1.10              /opt/conda/envs/pytorch1.10\n",
      "\n"
     ]
    }
   ],
   "source": [
    "!conda info --envs"
   ]
  },
  {
   "cell_type": "code",
   "execution_count": 7,
   "id": "2d7b445b-f443-4d1d-b65d-f02bbaff4b36",
   "metadata": {
    "tags": []
   },
   "outputs": [
    {
     "name": "stdout",
     "output_type": "stream",
     "text": [
      "\n",
      "CommandNotFoundError: Your shell has not been properly configured to use 'conda activate'.\n",
      "To initialize your shell, run\n",
      "\n",
      "    $ conda init <SHELL_NAME>\n",
      "\n",
      "Currently supported shells are:\n",
      "  - bash\n",
      "  - fish\n",
      "  - tcsh\n",
      "  - xonsh\n",
      "  - zsh\n",
      "  - powershell\n",
      "\n",
      "See 'conda init --help' for more information and options.\n",
      "\n",
      "IMPORTANT: You may need to close and restart your shell after running 'conda init'.\n",
      "\n",
      "\n"
     ]
    }
   ],
   "source": [
    "!conda activate pytorch1.10"
   ]
  },
  {
   "cell_type": "code",
   "execution_count": 9,
   "id": "ba9bae47-3f5b-409b-a212-b84e3b815917",
   "metadata": {
    "tags": []
   },
   "outputs": [
    {
     "name": "stdout",
     "output_type": "stream",
     "text": [
      "no change     /opt/conda/condabin/conda\n",
      "no change     /opt/conda/bin/conda\n",
      "no change     /opt/conda/bin/conda-env\n",
      "no change     /opt/conda/bin/activate\n",
      "no change     /opt/conda/bin/deactivate\n",
      "no change     /opt/conda/etc/profile.d/conda.sh\n",
      "no change     /opt/conda/etc/fish/conf.d/conda.fish\n",
      "no change     /opt/conda/shell/condabin/Conda.psm1\n",
      "no change     /opt/conda/shell/condabin/conda-hook.ps1\n",
      "no change     /opt/conda/lib/python3.10/site-packages/xontrib/conda.xsh\n",
      "no change     /opt/conda/etc/profile.d/conda.csh\n",
      "modified      /home/cemlab/.zshrc\n",
      "\n",
      "==> For changes to take effect, close and re-open your current shell. <==\n",
      "\n"
     ]
    }
   ],
   "source": [
    "!conda init zsh"
   ]
  },
  {
   "cell_type": "code",
   "execution_count": 1,
   "id": "75757e32-8c16-4584-882e-fc8ebea0cd48",
   "metadata": {},
   "outputs": [
    {
     "name": "stdout",
     "output_type": "stream",
     "text": [
      "/mydata/crossmodal/MGAN\n"
     ]
    }
   ],
   "source": [
    "!pwd"
   ]
  },
  {
   "cell_type": "code",
   "execution_count": 2,
   "id": "1043afd2-7859-4a6c-91be-69358344665f",
   "metadata": {
    "tags": []
   },
   "outputs": [
    {
     "name": "stdout",
     "output_type": "stream",
     "text": [
      "Python 3.10.11\n"
     ]
    }
   ],
   "source": [
    "!python -V"
   ]
  },
  {
   "cell_type": "code",
   "execution_count": 3,
   "id": "0026d324-9612-4f3f-b546-7526fe1f16bc",
   "metadata": {
    "tags": []
   },
   "outputs": [
    {
     "name": "stdout",
     "output_type": "stream",
     "text": [
      "/mydata/crossmodal/MGAN\n"
     ]
    }
   ],
   "source": [
    "!pwd"
   ]
  },
  {
   "cell_type": "code",
   "execution_count": 6,
   "id": "4c905755-47e4-4782-9938-3d4cffaed39f",
   "metadata": {
    "tags": []
   },
   "outputs": [
    {
     "name": "stdout",
     "output_type": "stream",
     "text": [
      "/mydata/crossmodal/MGAN/exec/RSICD\n"
     ]
    }
   ],
   "source": [
    "cd exec/RSICD"
   ]
  },
  {
   "cell_type": "code",
   "execution_count": 7,
   "id": "2bdde879-5902-48ae-a854-967ce26218f6",
   "metadata": {
    "tags": []
   },
   "outputs": [
    {
     "name": "stdout",
     "output_type": "stream",
     "text": [
      "/mydata/crossmodal/MGAN/exec/RSICD\n"
     ]
    }
   ],
   "source": [
    "!pwd"
   ]
  },
  {
   "cell_type": "code",
   "execution_count": 8,
   "id": "de26807a-e0d6-4f3b-affd-29cb2826e402",
   "metadata": {
    "tags": []
   },
   "outputs": [
    {
     "name": "stdout",
     "output_type": "stream",
     "text": [
      "run_MGAN_rsicd_0.sh\n"
     ]
    }
   ],
   "source": [
    "!ls"
   ]
  },
  {
   "cell_type": "code",
   "execution_count": 8,
   "id": "7b9a2e6b-5a8b-4800-8adf-5fab5d1f97d1",
   "metadata": {
    "tags": []
   },
   "outputs": [
    {
     "name": "stdout",
     "output_type": "stream",
     "text": [
      "sh: 0: Can't open run_MGAN_rsicd_1.sh\n"
     ]
    }
   ],
   "source": [
    "!sh run_MGAN_rsicd_1.sh"
   ]
  },
  {
   "cell_type": "code",
   "execution_count": 1,
   "id": "f6ca842e-9608-42b7-a16a-012a3520170b",
   "metadata": {
    "tags": []
   },
   "outputs": [
    {
     "name": "stdout",
     "output_type": "stream",
     "text": [
      "Python 3.10.11 (main, Apr 20 2023, 19:02:41) [GCC 11.2.0] on linux\n",
      "Type \"help\", \"copyright\", \"credits\" or \"license\" for more information.\n",
      ">>> \n",
      "Traceback (most recent call last):\n",
      "  File \"<stdin>\", line 1, in <module>\n",
      "KeyboardInterrupt\n",
      ">>> "
     ]
    }
   ],
   "source": [
    "!python"
   ]
  },
  {
   "cell_type": "code",
   "execution_count": 2,
   "id": "6aadc451-9894-48b9-9af0-317fab498616",
   "metadata": {
    "tags": []
   },
   "outputs": [
    {
     "name": "stdout",
     "output_type": "stream",
     "text": [
      "\n",
      "CommandNotFoundError: Your shell has not been properly configured to use 'conda activate'.\n",
      "To initialize your shell, run\n",
      "\n",
      "    $ conda init <SHELL_NAME>\n",
      "\n",
      "Currently supported shells are:\n",
      "  - bash\n",
      "  - fish\n",
      "  - tcsh\n",
      "  - xonsh\n",
      "  - zsh\n",
      "  - powershell\n",
      "\n",
      "See 'conda init --help' for more information and options.\n",
      "\n",
      "IMPORTANT: You may need to close and restart your shell after running 'conda init'.\n",
      "\n",
      "\n"
     ]
    }
   ],
   "source": [
    "!conda activate"
   ]
  },
  {
   "cell_type": "code",
   "execution_count": 3,
   "id": "e27bc0c9-643b-4e65-b983-74d1dbfc9224",
   "metadata": {
    "tags": []
   },
   "outputs": [
    {
     "name": "stdout",
     "output_type": "stream",
     "text": [
      "/usr/bin/sh: 1: source: not found\n"
     ]
    }
   ],
   "source": [
    "!source"
   ]
  },
  {
   "cell_type": "code",
   "execution_count": 6,
   "id": "c4fe8733-7153-415e-af26-c121af9fc5d0",
   "metadata": {
    "tags": []
   },
   "outputs": [
    {
     "name": "stdout",
     "output_type": "stream",
     "text": [
      "Sun Feb 25 08:17:12 2024       \n",
      "+---------------------------------------------------------------------------------------+\n",
      "| NVIDIA-SMI 535.154.05             Driver Version: 535.154.05   CUDA Version: 12.2     |\n",
      "|-----------------------------------------+----------------------+----------------------+\n",
      "| GPU  Name                 Persistence-M | Bus-Id        Disp.A | Volatile Uncorr. ECC |\n",
      "| Fan  Temp   Perf          Pwr:Usage/Cap |         Memory-Usage | GPU-Util  Compute M. |\n",
      "|                                         |                      |               MIG M. |\n",
      "|=========================================+======================+======================|\n",
      "|   0  NVIDIA A800 80GB PCIe          Off | 00000000:04:00.0 Off |                    0 |\n",
      "| N/A   75C    P0             109W / 300W |  46762MiB / 81920MiB |      0%      Default |\n",
      "|                                         |                      |             Disabled |\n",
      "+-----------------------------------------+----------------------+----------------------+\n",
      "|   1  NVIDIA A800 80GB PCIe          Off | 00000000:06:00.0 Off |                    0 |\n",
      "| N/A   47C    P0              52W / 300W |      3MiB / 81920MiB |      0%      Default |\n",
      "|                                         |                      |             Disabled |\n",
      "+-----------------------------------------+----------------------+----------------------+\n",
      "|   2  NVIDIA A800 80GB PCIe          Off | 00000000:0E:00.0 Off |                    0 |\n",
      "| N/A   44C    P0              52W / 300W |      3MiB / 81920MiB |      0%      Default |\n",
      "|                                         |                      |             Disabled |\n",
      "+-----------------------------------------+----------------------+----------------------+\n",
      "|   3  NVIDIA A800 80GB PCIe          Off | 00000000:10:00.0 Off |                    0 |\n",
      "| N/A   58C    P0              86W / 300W |    706MiB / 81920MiB |      0%      Default |\n",
      "|                                         |                      |             Disabled |\n",
      "+-----------------------------------------+----------------------+----------------------+\n",
      "|   4  NVIDIA A800 80GB PCIe          Off | 00000000:17:00.0 Off |                    0 |\n",
      "| N/A   46C    P0              53W / 300W |      3MiB / 81920MiB |      0%      Default |\n",
      "|                                         |                      |             Disabled |\n",
      "+-----------------------------------------+----------------------+----------------------+\n",
      "|   5  NVIDIA A800 80GB PCIe          Off | 00000000:19:00.0 Off |                    0 |\n",
      "| N/A   45C    P0              44W / 300W |      3MiB / 81920MiB |      0%      Default |\n",
      "|                                         |                      |             Disabled |\n",
      "+-----------------------------------------+----------------------+----------------------+\n",
      "|   6  NVIDIA A800 80GB PCIe          Off | 00000000:21:00.0 Off |                    0 |\n",
      "| N/A   48C    P0              50W / 300W |      3MiB / 81920MiB |      0%      Default |\n",
      "|                                         |                      |             Disabled |\n",
      "+-----------------------------------------+----------------------+----------------------+\n",
      "|   7  NVIDIA A800 80GB PCIe          Off | 00000000:23:00.0 Off |                    0 |\n",
      "| N/A   50C    P0              74W / 300W |   2098MiB / 81920MiB |      0%      Default |\n",
      "|                                         |                      |             Disabled |\n",
      "+-----------------------------------------+----------------------+----------------------+\n",
      "                                                                                         \n",
      "+---------------------------------------------------------------------------------------+\n",
      "| Processes:                                                                            |\n",
      "|  GPU   GI   CI        PID   Type   Process name                            GPU Memory |\n",
      "|        ID   ID                                                             Usage      |\n",
      "|=======================================================================================|\n",
      "+---------------------------------------------------------------------------------------+\n"
     ]
    }
   ],
   "source": [
    "!nvidia-smi"
   ]
  },
  {
   "cell_type": "code",
   "execution_count": 7,
   "id": "18e7bfd1-c861-4504-85ac-953666c5fc8e",
   "metadata": {
    "tags": []
   },
   "outputs": [
    {
     "name": "stdout",
     "output_type": "stream",
     "text": [
      "Python 3.10.11 (main, Apr 20 2023, 19:02:41) [GCC 11.2.0] on linux\n",
      "Type \"help\", \"copyright\", \"credits\" or \"license\" for more information.\n",
      ">>> \n",
      "Traceback (most recent call last):\n",
      "  File \"<stdin>\", line 1, in <module>\n",
      "KeyboardInterrupt\n",
      ">>> "
     ]
    }
   ],
   "source": [
    "!python"
   ]
  },
  {
   "cell_type": "code",
   "execution_count": 9,
   "id": "28716e5a-622e-48da-a3c3-0eba55417a2e",
   "metadata": {
    "tags": []
   },
   "outputs": [
    {
     "name": "stdout",
     "output_type": "stream",
     "text": [
      "/mydata/crossmodal/MGAN\n"
     ]
    }
   ],
   "source": [
    "!pwd"
   ]
  },
  {
   "cell_type": "code",
   "execution_count": 10,
   "id": "808b83e6-d718-42ed-9e2a-d287c5bb69e0",
   "metadata": {
    "tags": []
   },
   "outputs": [
    {
     "name": "stdout",
     "output_type": "stream",
     "text": [
      "/mydata/crossmodal/MGAN/exec/RSICD\n"
     ]
    }
   ],
   "source": [
    "cd exec/RSICD"
   ]
  },
  {
   "cell_type": "code",
   "execution_count": 20,
   "id": "09a1f55c-4a4b-4cfc-8213-9a13f126239c",
   "metadata": {
    "tags": []
   },
   "outputs": [
    {
     "name": "stdout",
     "output_type": "stream",
     "text": [
      "True\n"
     ]
    }
   ],
   "source": [
    "import torch\n",
    "print(torch.cuda.is_available())"
   ]
  },
  {
   "cell_type": "code",
   "execution_count": 27,
   "id": "ea5eabb1-c2bc-43c9-9b87-264194475b5d",
   "metadata": {
    "tags": []
   },
   "outputs": [
    {
     "name": "stdout",
     "output_type": "stream",
     "text": [
      "=========================================\n",
      "Start 0th fold\n",
      "Generate random samples to data/rsicd_precomp/ complete.\n",
      "^C\n",
      "Traceback (most recent call last):\n",
      "  File \"/mydata/crossmodal/MGAN/train.py\", line 207, in <module>\n",
      "    main(update_options)\n",
      "  File \"/mydata/crossmodal/MGAN/train.py\", line 50, in main\n",
      "    train_loader, val_loader = data.get_loaders(vocab, options)\n",
      "  File \"/mydata/crossmodal/MGAN/data.py\", line 141, in get_loaders\n",
      "    train_loader = get_precomp_loader( 'train', vocab,\n",
      "  File \"/mydata/crossmodal/MGAN/data.py\", line 130, in get_precomp_loader\n",
      "    dset = PrecompDataset(data_split, vocab, opt)\n",
      "  File \"/mydata/crossmodal/MGAN/data.py\", line 72, in __init__\n",
      "    image = self.transform(image)  # torch.Size([3, 256, 256])\n",
      "  File \"/opt/conda/lib/python3.10/site-packages/torchvision/transforms/transforms.py\", line 95, in __call__\n",
      "    img = t(img)\n",
      "  File \"/opt/conda/lib/python3.10/site-packages/torch/nn/modules/module.py\", line 1501, in _call_impl\n",
      "    return forward_call(*args, **kwargs)\n",
      "  File \"/opt/conda/lib/python3.10/site-packages/torchvision/transforms/transforms.py\", line 277, in forward\n",
      "    return F.normalize(tensor, self.mean, self.std, self.inplace)\n",
      "  File \"/opt/conda/lib/python3.10/site-packages/torchvision/transforms/functional.py\", line 363, in normalize\n",
      "    return F_t.normalize(tensor, mean=mean, std=std, inplace=inplace)\n",
      "  File \"/opt/conda/lib/python3.10/site-packages/torchvision/transforms/_functional_tensor.py\", line 928, in normalize\n",
      "    return tensor.sub_(mean).div_(std)\n",
      "KeyboardInterrupt\n"
     ]
    }
   ],
   "source": [
    "!sh run_MGAN_rsicd_1.sh"
   ]
  },
  {
   "cell_type": "code",
   "execution_count": 18,
   "id": "4c1e3f56-04e8-4236-999b-4a781d7655ef",
   "metadata": {
    "tags": []
   },
   "outputs": [
    {
     "name": "stdout",
     "output_type": "stream",
     "text": [
      "Defaulting to user installation because normal site-packages is not writeable\n",
      "Collecting tensorflow\n",
      "  Downloading tensorflow-2.15.0.post1-cp310-cp310-manylinux_2_17_x86_64.manylinux2014_x86_64.whl (475.2 MB)\n",
      "\u001b[2K     \u001b[90m━━━━━━━━━━━━━━━━━━━━━━━━━━━━━━━━━━━━━━━\u001b[0m \u001b[32m475.2/475.2 MB\u001b[0m \u001b[31m2.6 MB/s\u001b[0m eta \u001b[36m0:00:00\u001b[0m00:01\u001b[0m00:02\u001b[0m\n",
      "\u001b[?25hCollecting libclang>=13.0.0\n",
      "  Downloading libclang-16.0.6-py2.py3-none-manylinux2010_x86_64.whl (22.9 MB)\n",
      "\u001b[2K     \u001b[90m━━━━━━━━━━━━━━━━━━━━━━━━━━━━━━━━━━━━━━━━\u001b[0m \u001b[32m22.9/22.9 MB\u001b[0m \u001b[31m9.5 MB/s\u001b[0m eta \u001b[36m0:00:00\u001b[0m:00:01\u001b[0m00:01\u001b[0m\n",
      "\u001b[?25hRequirement already satisfied: packaging in /opt/conda/lib/python3.10/site-packages (from tensorflow) (23.0)\n",
      "Collecting termcolor>=1.1.0\n",
      "  Downloading termcolor-2.4.0-py3-none-any.whl (7.7 kB)\n",
      "Collecting flatbuffers>=23.5.26\n",
      "  Downloading flatbuffers-23.5.26-py2.py3-none-any.whl (26 kB)\n",
      "Requirement already satisfied: typing-extensions>=3.6.6 in /opt/conda/lib/python3.10/site-packages (from tensorflow) (4.5.0)\n",
      "Requirement already satisfied: numpy<2.0.0,>=1.23.5 in /opt/conda/lib/python3.10/site-packages (from tensorflow) (1.24.3)\n",
      "Collecting tensorflow-estimator<2.16,>=2.15.0\n",
      "  Downloading tensorflow_estimator-2.15.0-py2.py3-none-any.whl (441 kB)\n",
      "\u001b[2K     \u001b[90m━━━━━━━━━━━━━━━━━━━━━━━━━━━━━━━━━━━━━━\u001b[0m \u001b[32m442.0/442.0 kB\u001b[0m \u001b[31m24.1 MB/s\u001b[0m eta \u001b[36m0:00:00\u001b[0m\n",
      "\u001b[?25hRequirement already satisfied: absl-py>=1.0.0 in /opt/conda/lib/python3.10/site-packages (from tensorflow) (1.4.0)\n",
      "Collecting opt-einsum>=2.3.2\n",
      "  Downloading opt_einsum-3.3.0-py3-none-any.whl (65 kB)\n",
      "\u001b[2K     \u001b[90m━━━━━━━━━━━━━━━━━━━━━━━━━━━━━━━━━━━━━━━━\u001b[0m \u001b[32m65.5/65.5 kB\u001b[0m \u001b[31m18.8 MB/s\u001b[0m eta \u001b[36m0:00:00\u001b[0m\n",
      "\u001b[?25hRequirement already satisfied: six>=1.12.0 in /opt/conda/lib/python3.10/site-packages (from tensorflow) (1.16.0)\n",
      "Collecting gast!=0.5.0,!=0.5.1,!=0.5.2,>=0.2.1\n",
      "  Downloading gast-0.5.4-py3-none-any.whl (19 kB)\n",
      "Requirement already satisfied: grpcio<2.0,>=1.24.3 in /opt/conda/lib/python3.10/site-packages (from tensorflow) (1.56.2)\n",
      "Collecting tensorboard<2.16,>=2.15\n",
      "  Downloading tensorboard-2.15.2-py3-none-any.whl (5.5 MB)\n",
      "\u001b[2K     \u001b[90m━━━━━━━━━━━━━━━━━━━━━━━━━━━━━━━━━━━━━━━━\u001b[0m \u001b[32m5.5/5.5 MB\u001b[0m \u001b[31m11.6 MB/s\u001b[0m eta \u001b[36m0:00:00\u001b[0m00:01\u001b[0m00:01\u001b[0m\n",
      "\u001b[?25hCollecting h5py>=2.9.0\n",
      "  Downloading h5py-3.10.0-cp310-cp310-manylinux_2_17_x86_64.manylinux2014_x86_64.whl (4.8 MB)\n",
      "\u001b[2K     \u001b[90m━━━━━━━━━━━━━━━━━━━━━━━━━━━━━━━━━━━━━━━━\u001b[0m \u001b[32m4.8/4.8 MB\u001b[0m \u001b[31m12.5 MB/s\u001b[0m eta \u001b[36m0:00:00\u001b[0ma \u001b[36m0:00:01\u001b[0m\n",
      "\u001b[?25hCollecting wrapt<1.15,>=1.11.0\n",
      "  Downloading wrapt-1.14.1-cp310-cp310-manylinux_2_5_x86_64.manylinux1_x86_64.manylinux_2_17_x86_64.manylinux2014_x86_64.whl (77 kB)\n",
      "\u001b[2K     \u001b[90m━━━━━━━━━━━━━━━━━━━━━━━━━━━━━━━━━━━━━━━━\u001b[0m \u001b[32m77.9/77.9 kB\u001b[0m \u001b[31m18.8 MB/s\u001b[0m eta \u001b[36m0:00:00\u001b[0m\n",
      "\u001b[?25hCollecting tensorflow-io-gcs-filesystem>=0.23.1\n",
      "  Downloading tensorflow_io_gcs_filesystem-0.36.0-cp310-cp310-manylinux_2_17_x86_64.manylinux2014_x86_64.whl (5.1 MB)\n",
      "\u001b[2K     \u001b[90m━━━━━━━━━━━━━━━━━━━━━━━━━━━━━━━━━━━━━━━━\u001b[0m \u001b[32m5.1/5.1 MB\u001b[0m \u001b[31m12.8 MB/s\u001b[0m eta \u001b[36m0:00:00\u001b[0m00:01\u001b[0m00:01\u001b[0m\n",
      "\u001b[?25hCollecting google-pasta>=0.1.1\n",
      "  Downloading google_pasta-0.2.0-py3-none-any.whl (57 kB)\n",
      "\u001b[2K     \u001b[90m━━━━━━━━━━━━━━━━━━━━━━━━━━━━━━━━━━━━━━━━\u001b[0m \u001b[32m57.5/57.5 kB\u001b[0m \u001b[31m15.6 MB/s\u001b[0m eta \u001b[36m0:00:00\u001b[0m\n",
      "\u001b[?25hRequirement already satisfied: astunparse>=1.6.0 in /opt/conda/lib/python3.10/site-packages (from tensorflow) (1.6.3)\n",
      "Requirement already satisfied: protobuf!=4.21.0,!=4.21.1,!=4.21.2,!=4.21.3,!=4.21.4,!=4.21.5,<5.0.0dev,>=3.20.3 in /opt/conda/lib/python3.10/site-packages (from tensorflow) (4.23.4)\n",
      "Collecting keras<2.16,>=2.15.0\n",
      "  Downloading keras-2.15.0-py3-none-any.whl (1.7 MB)\n",
      "\u001b[2K     \u001b[90m━━━━━━━━━━━━━━━━━━━━━━━━━━━━━━━━━━━━━━━━\u001b[0m \u001b[32m1.7/1.7 MB\u001b[0m \u001b[31m14.1 MB/s\u001b[0m eta \u001b[36m0:00:00\u001b[0ma \u001b[36m0:00:01\u001b[0m\n",
      "\u001b[?25hCollecting ml-dtypes~=0.2.0\n",
      "  Downloading ml_dtypes-0.2.0-cp310-cp310-manylinux_2_17_x86_64.manylinux2014_x86_64.whl (1.0 MB)\n",
      "\u001b[2K     \u001b[90m━━━━━━━━━━━━━━━━━━━━━━━━━━━━━━━━━━━━━━━━\u001b[0m \u001b[32m1.0/1.0 MB\u001b[0m \u001b[31m19.0 MB/s\u001b[0m eta \u001b[36m0:00:00\u001b[0ma \u001b[36m0:00:01\u001b[0m\n",
      "\u001b[?25hRequirement already satisfied: setuptools in /opt/conda/lib/python3.10/site-packages (from tensorflow) (65.6.3)\n",
      "Requirement already satisfied: wheel<1.0,>=0.23.0 in /opt/conda/lib/python3.10/site-packages (from astunparse>=1.6.0->tensorflow) (0.38.4)\n",
      "Requirement already satisfied: markdown>=2.6.8 in /opt/conda/lib/python3.10/site-packages (from tensorboard<2.16,>=2.15->tensorflow) (3.4.4)\n",
      "Requirement already satisfied: tensorboard-data-server<0.8.0,>=0.7.0 in /opt/conda/lib/python3.10/site-packages (from tensorboard<2.16,>=2.15->tensorflow) (0.7.1)\n",
      "Requirement already satisfied: google-auth-oauthlib<2,>=0.5 in /opt/conda/lib/python3.10/site-packages (from tensorboard<2.16,>=2.15->tensorflow) (1.0.0)\n",
      "Requirement already satisfied: requests<3,>=2.21.0 in /opt/conda/lib/python3.10/site-packages (from tensorboard<2.16,>=2.15->tensorflow) (2.29.0)\n",
      "Requirement already satisfied: google-auth<3,>=1.6.3 in /opt/conda/lib/python3.10/site-packages (from tensorboard<2.16,>=2.15->tensorflow) (2.22.0)\n",
      "Requirement already satisfied: werkzeug>=1.0.1 in /opt/conda/lib/python3.10/site-packages (from tensorboard<2.16,>=2.15->tensorflow) (2.3.6)\n",
      "Requirement already satisfied: pyasn1-modules>=0.2.1 in /opt/conda/lib/python3.10/site-packages (from google-auth<3,>=1.6.3->tensorboard<2.16,>=2.15->tensorflow) (0.3.0)\n",
      "Requirement already satisfied: rsa<5,>=3.1.4 in /opt/conda/lib/python3.10/site-packages (from google-auth<3,>=1.6.3->tensorboard<2.16,>=2.15->tensorflow) (4.9)\n",
      "Requirement already satisfied: urllib3<2.0 in /opt/conda/lib/python3.10/site-packages (from google-auth<3,>=1.6.3->tensorboard<2.16,>=2.15->tensorflow) (1.26.15)\n",
      "Requirement already satisfied: cachetools<6.0,>=2.0.0 in /opt/conda/lib/python3.10/site-packages (from google-auth<3,>=1.6.3->tensorboard<2.16,>=2.15->tensorflow) (5.3.1)\n",
      "Requirement already satisfied: requests-oauthlib>=0.7.0 in /opt/conda/lib/python3.10/site-packages (from google-auth-oauthlib<2,>=0.5->tensorboard<2.16,>=2.15->tensorflow) (1.3.1)\n",
      "Requirement already satisfied: idna<4,>=2.5 in /opt/conda/lib/python3.10/site-packages (from requests<3,>=2.21.0->tensorboard<2.16,>=2.15->tensorflow) (3.4)\n",
      "Requirement already satisfied: charset-normalizer<4,>=2 in /opt/conda/lib/python3.10/site-packages (from requests<3,>=2.21.0->tensorboard<2.16,>=2.15->tensorflow) (2.0.4)\n",
      "Requirement already satisfied: certifi>=2017.4.17 in /opt/conda/lib/python3.10/site-packages (from requests<3,>=2.21.0->tensorboard<2.16,>=2.15->tensorflow) (2023.7.22)\n",
      "Requirement already satisfied: MarkupSafe>=2.1.1 in /opt/conda/lib/python3.10/site-packages (from werkzeug>=1.0.1->tensorboard<2.16,>=2.15->tensorflow) (2.1.1)\n",
      "Requirement already satisfied: pyasn1<0.6.0,>=0.4.6 in /opt/conda/lib/python3.10/site-packages (from pyasn1-modules>=0.2.1->google-auth<3,>=1.6.3->tensorboard<2.16,>=2.15->tensorflow) (0.5.0)\n",
      "Requirement already satisfied: oauthlib>=3.0.0 in /opt/conda/lib/python3.10/site-packages (from requests-oauthlib>=0.7.0->google-auth-oauthlib<2,>=0.5->tensorboard<2.16,>=2.15->tensorflow) (3.2.2)\n",
      "Installing collected packages: libclang, flatbuffers, wrapt, termcolor, tensorflow-io-gcs-filesystem, tensorflow-estimator, opt-einsum, ml-dtypes, keras, h5py, google-pasta, gast, tensorboard, tensorflow\n",
      "\u001b[33m  WARNING: The script tensorboard is installed in '/home/cemlab/.local/bin' which is not on PATH.\n",
      "  Consider adding this directory to PATH or, if you prefer to suppress this warning, use --no-warn-script-location.\u001b[0m\u001b[33m\n",
      "\u001b[0m\u001b[33m  WARNING: The scripts estimator_ckpt_converter, import_pb_to_tensorboard, saved_model_cli, tensorboard, tf_upgrade_v2, tflite_convert, toco and toco_from_protos are installed in '/home/cemlab/.local/bin' which is not on PATH.\n",
      "  Consider adding this directory to PATH or, if you prefer to suppress this warning, use --no-warn-script-location.\u001b[0m\u001b[33m\n",
      "\u001b[0mSuccessfully installed flatbuffers-23.5.26 gast-0.5.4 google-pasta-0.2.0 h5py-3.10.0 keras-2.15.0 libclang-16.0.6 ml-dtypes-0.2.0 opt-einsum-3.3.0 tensorboard-2.15.2 tensorflow-2.15.0.post1 tensorflow-estimator-2.15.0 tensorflow-io-gcs-filesystem-0.36.0 termcolor-2.4.0 wrapt-1.14.1\n"
     ]
    }
   ],
   "source": [
    "!pip install tensorflow"
   ]
  },
  {
   "cell_type": "code",
   "execution_count": null,
   "id": "12ac5f62-d7d4-41d0-b759-3abfb0dde098",
   "metadata": {},
   "outputs": [],
   "source": []
  }
 ],
 "metadata": {
  "kernelspec": {
   "display_name": "pytorch1.10",
   "language": "python",
   "name": "pytorch1.10"
  },
  "language_info": {
   "codemirror_mode": {
    "name": "ipython",
    "version": 3
   },
   "file_extension": ".py",
   "mimetype": "text/x-python",
   "name": "python",
   "nbconvert_exporter": "python",
   "pygments_lexer": "ipython3",
   "version": "3.10.11"
  }
 },
 "nbformat": 4,
 "nbformat_minor": 5
}
